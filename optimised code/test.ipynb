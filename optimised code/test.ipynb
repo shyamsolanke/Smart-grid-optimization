{
 "cells": [
  {
   "cell_type": "code",
   "execution_count": null,
   "id": "3103e731",
   "metadata": {},
   "outputs": [],
   "source": []
  },
  {
   "cell_type": "code",
   "execution_count": 1,
   "id": "0ed64da3",
   "metadata": {},
   "outputs": [],
   "source": [
    "import pandas as pd\n",
    "df = pd.read_csv('smart_grid_dataset.csv')"
   ]
  },
  {
   "cell_type": "code",
   "execution_count": 2,
   "id": "2b920808",
   "metadata": {},
   "outputs": [
    {
     "data": {
      "text/plain": [
       "Index(['Timestamp', 'Voltage (V)', 'Current (A)', 'Power Consumption (kW)',\n",
       "       'Reactive Power (kVAR)', 'Power Factor', 'Solar Power (kW)',\n",
       "       'Wind Power (kW)', 'Grid Supply (kW)', 'Voltage Fluctuation (%)',\n",
       "       'Overload Condition', 'Transformer Fault', 'Temperature (°C)',\n",
       "       'Humidity (%)', 'Electricity Price (USD/kWh)', 'Predicted Load (kW)'],\n",
       "      dtype='object')"
      ]
     },
     "execution_count": 2,
     "metadata": {},
     "output_type": "execute_result"
    }
   ],
   "source": [
    "df.columns"
   ]
  },
  {
   "cell_type": "code",
   "execution_count": null,
   "id": "94168e06",
   "metadata": {},
   "outputs": [],
   "source": []
  }
 ],
 "metadata": {
  "kernelspec": {
   "display_name": "Python 3",
   "language": "python",
   "name": "python3"
  },
  "language_info": {
   "codemirror_mode": {
    "name": "ipython",
    "version": 3
   },
   "file_extension": ".py",
   "mimetype": "text/x-python",
   "name": "python",
   "nbconvert_exporter": "python",
   "pygments_lexer": "ipython3",
   "version": "3.11.9"
  }
 },
 "nbformat": 4,
 "nbformat_minor": 5
}
